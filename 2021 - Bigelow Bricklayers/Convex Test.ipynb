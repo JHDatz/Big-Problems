{
 "cells": [
  {
   "cell_type": "code",
   "execution_count": 2,
   "metadata": {},
   "outputs": [],
   "source": [
    "import cvxpy as cp\n",
    "import numpy as np\n",
    "import mysql.connector\n",
    "from itertools import combinations\n",
    "\n",
    "# Fit a curve constraint\n",
    "\n",
    "def curve_fit(coordinates1, coordinates2, coordinates3):\n",
    "    y = np.array([coordinates1[1], coordinates2[1], coordinates3[1]])\n",
    "    x = np.array([[coordinates1[0]**2, coordinates1[0], 1], \n",
    "                  [coordinates2[0]**2, coordinates2[0], 1],\n",
    "                  [coordinates3[0]**2, coordinates3[0], 1]])\n",
    "    constants = np.linalg.inv(x.T.dot(x)).dot(x.T).dot(y)\n",
    "    return constants[0], constants[1], constants[2]"
   ]
  },
  {
   "cell_type": "code",
   "execution_count": 64,
   "metadata": {},
   "outputs": [],
   "source": [
    "[a1, b1, c1] = curve_fit((84.85, 84.85), (0, 157.28), (-84.85, 84.85)) # shallow outfield\n",
    "[a2, b2, c2] = curve_fit((-229.809, 229.809), (0, 400), (229.809, 229.809)) # outfield max"
   ]
  },
  {
   "cell_type": "code",
   "execution_count": 6,
   "metadata": {},
   "outputs": [],
   "source": [
    "conn = mysql.connector.connect(user = 'r-user', password = 'h2p@4031',\n",
    "                               host = 'saberbase.cn2snhhvsjfa.us-east-2.rds.amazonaws.com',\n",
    "                               port = 3306,\n",
    "                               database = 'figmentLeague')\n",
    "cur = conn.cursor()\n",
    "cur.execute(\"select ballpos_x, ballpos_y from rawFiltered where batterid = 605137\") # Josh Bell\n",
    "data = np.array(cur.fetchall())\n",
    "conn.close()"
   ]
  },
  {
   "cell_type": "code",
   "execution_count": 105,
   "metadata": {},
   "outputs": [
    {
     "name": "stdout",
     "output_type": "stream",
     "text": [
      "optimal value: 41197.88200577231\n",
      "Optimal 1B Position [40.25726077 82.53487981]\n",
      "Optimal 2B Position [ -5.40853287 138.62240476]\n",
      "Optimal 3B Position [ -5.40853287 138.62240476]\n",
      "Optimal Shortstop Position [ -5.40853287 138.62240476]\n",
      "Optimal Left Fielder Position [ -5.40853104 138.6223936 ]\n",
      "Optimal Center Fielder Position [ -5.40853104 138.6223936 ]\n",
      "Optimal Right Fielder Position [ -5.40853104 138.6223936 ]\n"
     ]
    }
   ],
   "source": [
    "positions = cp.Variable((7, 2))\n",
    "\n",
    "objective = [cp.norm(cp.vec(data[:,0] - positions[i,0])) + cp.norm(cp.vec(data[:,1] - positions[i,1])) \n",
    "             for i in range(positions.shape[0])]\n",
    "\n",
    "constraints = [positions[:,1] >= 63.64, # Everyone behind pitcher's mound\n",
    "               positions[:,0] <= positions[:,1], # No one past right foul line\n",
    "               -positions[:,0]<= positions[:,1], # No one past left foul line\n",
    "               a1*cp.square(positions[0:4,0]) + b1*positions[0:4,0] + c1*np.ones((4,1))[0:5,0] >= positions[0:4,1],\n",
    "               a2*cp.square(positions[:,0]) + b2*positions[:,0] + c2*np.ones((7,1))[:,0] >= positions[:,1],\n",
    "               cp.square(positions[0,0] - 63.64) + cp.square(positions[0,1] - 63.74) <= 30**2, # 1B 30ft from 1st\n",
    "              ]\n",
    "\n",
    "prob = cp.Problem(cp.Minimize(cp.sum(objective)), constraints)\n",
    "\n",
    "print('optimal value:', prob.solve())\n",
    "print('Optimal 1B Position', positions[0,:].value)\n",
    "print('Optimal 2B Position', positions[1,:].value)\n",
    "print('Optimal 3B Position', positions[2,:].value)\n",
    "print('Optimal Shortstop Position', positions[3,:].value)\n",
    "print('Optimal Left Fielder Position', positions[4,:].value)\n",
    "print('Optimal Center Fielder Position', positions[5,:].value)\n",
    "print('Optimal Right Fielder Position', positions[6,:].value)"
   ]
  },
  {
   "cell_type": "code",
   "execution_count": null,
   "metadata": {},
   "outputs": [],
   "source": [
    "# Constraints attempted with no luck:\n",
    "\n",
    "cp.norm(cp.vec(positions[0,:] - positions[1,:])) >= 30**2 # Keeping players squared distances away from each other\n",
    "\n",
    "a1*cp.square(positions[4:7,0]) + b1*positions[4:7,0] + c1*np.ones((3,1))[0:4,0] <= positions[4:7,1] # Keep OF in OF\n",
    "\n",
    "# Objective function additions with no luck:\n",
    "\n",
    "objective = objective + [cp.log(cp.abs(positions[i,0] - positions[j,0])) \n",
    "                         for i,j in combinations([0,1,2,3,4,5,6], 2)]\n",
    "\n"
   ]
  },
  {
   "cell_type": "code",
   "execution_count": 80,
   "metadata": {},
   "outputs": [
    {
     "data": {
      "text/plain": [
       "Inequality(Expression(CONSTANT, NONNEGATIVE, ()))"
      ]
     },
     "execution_count": 80,
     "metadata": {},
     "output_type": "execute_result"
    }
   ],
   "source": [
    "cp.norm(positions[0,:] - positions[1,:]) >= cp.square(30)"
   ]
  },
  {
   "cell_type": "code",
   "execution_count": 86,
   "metadata": {},
   "outputs": [
    {
     "data": {
      "text/plain": [
       "Expression(QUASICONVEX, UNKNOWN, ())"
      ]
     },
     "execution_count": 86,
     "metadata": {},
     "output_type": "execute_result"
    }
   ],
   "source": [
    "cp.log(cp.abs(positions[0,0] - positions[1,0]))"
   ]
  },
  {
   "cell_type": "code",
   "execution_count": 90,
   "metadata": {},
   "outputs": [
    {
     "data": {
      "text/plain": [
       "Expression(CONVEX, NONNEGATIVE, ())"
      ]
     },
     "execution_count": 90,
     "metadata": {},
     "output_type": "execute_result"
    }
   ],
   "source": [
    "cp.norm(cp.vec(data[:,0] - positions[1,0]))"
   ]
  },
  {
   "cell_type": "code",
   "execution_count": 96,
   "metadata": {},
   "outputs": [],
   "source": [
    "attempt = cp.Variable(len(list(combinations([0,1,2,3,4,5,6], 2))), boolean=True)"
   ]
  },
  {
   "cell_type": "code",
   "execution_count": 100,
   "metadata": {},
   "outputs": [
    {
     "ename": "Exception",
     "evalue": "Cannot evaluate the truth value of a constraint or chain constraints, e.g., 1 >= x >= 0.",
     "output_type": "error",
     "traceback": [
      "\u001b[0;31m---------------------------------------------------------------------------\u001b[0m",
      "\u001b[0;31mException\u001b[0m                                 Traceback (most recent call last)",
      "\u001b[0;32m<ipython-input-100-03175cfe53ba>\u001b[0m in \u001b[0;36m<module>\u001b[0;34m\u001b[0m\n\u001b[0;32m----> 1\u001b[0;31m \u001b[0mattempt\u001b[0m \u001b[0;34m=\u001b[0m \u001b[0;34m[\u001b[0m\u001b[0;36m1\u001b[0m \u001b[0;32mif\u001b[0m \u001b[0mcp\u001b[0m\u001b[0;34m.\u001b[0m\u001b[0msquare\u001b[0m\u001b[0;34m(\u001b[0m\u001b[0mpositions\u001b[0m\u001b[0;34m[\u001b[0m\u001b[0mi\u001b[0m\u001b[0;34m,\u001b[0m\u001b[0;36m0\u001b[0m\u001b[0;34m]\u001b[0m \u001b[0;34m-\u001b[0m \u001b[0mpositions\u001b[0m\u001b[0;34m[\u001b[0m\u001b[0mj\u001b[0m\u001b[0;34m,\u001b[0m\u001b[0;36m0\u001b[0m\u001b[0;34m]\u001b[0m\u001b[0;34m)\u001b[0m \u001b[0;34m+\u001b[0m \u001b[0mcp\u001b[0m\u001b[0;34m.\u001b[0m\u001b[0msquare\u001b[0m\u001b[0;34m(\u001b[0m\u001b[0mpositions\u001b[0m\u001b[0;34m[\u001b[0m\u001b[0mi\u001b[0m\u001b[0;34m,\u001b[0m\u001b[0;36m1\u001b[0m\u001b[0;34m]\u001b[0m \u001b[0;34m-\u001b[0m \u001b[0mpositions\u001b[0m\u001b[0;34m[\u001b[0m\u001b[0mj\u001b[0m\u001b[0;34m,\u001b[0m\u001b[0;36m1\u001b[0m\u001b[0;34m]\u001b[0m\u001b[0;34m)\u001b[0m \u001b[0;34m>=\u001b[0m \u001b[0;36m30\u001b[0m \u001b[0;32melse\u001b[0m \u001b[0;36m0\u001b[0m \u001b[0;32mfor\u001b[0m \u001b[0mi\u001b[0m\u001b[0;34m,\u001b[0m\u001b[0mj\u001b[0m \u001b[0;32min\u001b[0m \u001b[0mcombinations\u001b[0m\u001b[0;34m(\u001b[0m\u001b[0;34m[\u001b[0m\u001b[0;36m0\u001b[0m\u001b[0;34m,\u001b[0m\u001b[0;36m1\u001b[0m\u001b[0;34m,\u001b[0m\u001b[0;36m2\u001b[0m\u001b[0;34m,\u001b[0m\u001b[0;36m3\u001b[0m\u001b[0;34m,\u001b[0m\u001b[0;36m4\u001b[0m\u001b[0;34m,\u001b[0m\u001b[0;36m5\u001b[0m\u001b[0;34m,\u001b[0m\u001b[0;36m6\u001b[0m\u001b[0;34m]\u001b[0m\u001b[0;34m,\u001b[0m \u001b[0;36m2\u001b[0m\u001b[0;34m)\u001b[0m\u001b[0;34m]\u001b[0m\u001b[0;34m\u001b[0m\u001b[0;34m\u001b[0m\u001b[0m\n\u001b[0m",
      "\u001b[0;32m<ipython-input-100-03175cfe53ba>\u001b[0m in \u001b[0;36m<listcomp>\u001b[0;34m(.0)\u001b[0m\n\u001b[0;32m----> 1\u001b[0;31m \u001b[0mattempt\u001b[0m \u001b[0;34m=\u001b[0m \u001b[0;34m[\u001b[0m\u001b[0;36m1\u001b[0m \u001b[0;32mif\u001b[0m \u001b[0mcp\u001b[0m\u001b[0;34m.\u001b[0m\u001b[0msquare\u001b[0m\u001b[0;34m(\u001b[0m\u001b[0mpositions\u001b[0m\u001b[0;34m[\u001b[0m\u001b[0mi\u001b[0m\u001b[0;34m,\u001b[0m\u001b[0;36m0\u001b[0m\u001b[0;34m]\u001b[0m \u001b[0;34m-\u001b[0m \u001b[0mpositions\u001b[0m\u001b[0;34m[\u001b[0m\u001b[0mj\u001b[0m\u001b[0;34m,\u001b[0m\u001b[0;36m0\u001b[0m\u001b[0;34m]\u001b[0m\u001b[0;34m)\u001b[0m \u001b[0;34m+\u001b[0m \u001b[0mcp\u001b[0m\u001b[0;34m.\u001b[0m\u001b[0msquare\u001b[0m\u001b[0;34m(\u001b[0m\u001b[0mpositions\u001b[0m\u001b[0;34m[\u001b[0m\u001b[0mi\u001b[0m\u001b[0;34m,\u001b[0m\u001b[0;36m1\u001b[0m\u001b[0;34m]\u001b[0m \u001b[0;34m-\u001b[0m \u001b[0mpositions\u001b[0m\u001b[0;34m[\u001b[0m\u001b[0mj\u001b[0m\u001b[0;34m,\u001b[0m\u001b[0;36m1\u001b[0m\u001b[0;34m]\u001b[0m\u001b[0;34m)\u001b[0m \u001b[0;34m>=\u001b[0m \u001b[0;36m30\u001b[0m \u001b[0;32melse\u001b[0m \u001b[0;36m0\u001b[0m \u001b[0;32mfor\u001b[0m \u001b[0mi\u001b[0m\u001b[0;34m,\u001b[0m\u001b[0mj\u001b[0m \u001b[0;32min\u001b[0m \u001b[0mcombinations\u001b[0m\u001b[0;34m(\u001b[0m\u001b[0;34m[\u001b[0m\u001b[0;36m0\u001b[0m\u001b[0;34m,\u001b[0m\u001b[0;36m1\u001b[0m\u001b[0;34m,\u001b[0m\u001b[0;36m2\u001b[0m\u001b[0;34m,\u001b[0m\u001b[0;36m3\u001b[0m\u001b[0;34m,\u001b[0m\u001b[0;36m4\u001b[0m\u001b[0;34m,\u001b[0m\u001b[0;36m5\u001b[0m\u001b[0;34m,\u001b[0m\u001b[0;36m6\u001b[0m\u001b[0;34m]\u001b[0m\u001b[0;34m,\u001b[0m \u001b[0;36m2\u001b[0m\u001b[0;34m)\u001b[0m\u001b[0;34m]\u001b[0m\u001b[0;34m\u001b[0m\u001b[0;34m\u001b[0m\u001b[0m\n\u001b[0m",
      "\u001b[0;32m~/anaconda3/lib/python3.8/site-packages/cvxpy/constraints/constraint.py\u001b[0m in \u001b[0;36m__bool__\u001b[0;34m(self)\u001b[0m\n\u001b[1;32m    225\u001b[0m         \u001b[0mRaising\u001b[0m \u001b[0man\u001b[0m \u001b[0merror\u001b[0m \u001b[0mhere\u001b[0m \u001b[0mprevents\u001b[0m \u001b[0mwriting\u001b[0m \u001b[0mchained\u001b[0m \u001b[0mconstraints\u001b[0m\u001b[0;34m.\u001b[0m\u001b[0;34m\u001b[0m\u001b[0;34m\u001b[0m\u001b[0m\n\u001b[1;32m    226\u001b[0m         \"\"\"\n\u001b[0;32m--> 227\u001b[0;31m         \u001b[0;32mreturn\u001b[0m \u001b[0mself\u001b[0m\u001b[0;34m.\u001b[0m\u001b[0m_chain_constraints\u001b[0m\u001b[0;34m(\u001b[0m\u001b[0;34m)\u001b[0m\u001b[0;34m\u001b[0m\u001b[0;34m\u001b[0m\u001b[0m\n\u001b[0m\u001b[1;32m    228\u001b[0m \u001b[0;34m\u001b[0m\u001b[0m\n\u001b[1;32m    229\u001b[0m     \u001b[0;31m# TODO(rileyjmurray): add a function to compute dual-variable violation.\u001b[0m\u001b[0;34m\u001b[0m\u001b[0;34m\u001b[0m\u001b[0;34m\u001b[0m\u001b[0m\n",
      "\u001b[0;32m~/anaconda3/lib/python3.8/site-packages/cvxpy/constraints/constraint.py\u001b[0m in \u001b[0;36m_chain_constraints\u001b[0;34m(self)\u001b[0m\n\u001b[1;32m    212\u001b[0m         \"\"\"Raises an error due to chained constraints.\n\u001b[1;32m    213\u001b[0m         \"\"\"\n\u001b[0;32m--> 214\u001b[0;31m         raise Exception(\n\u001b[0m\u001b[1;32m    215\u001b[0m             (\"Cannot evaluate the truth value of a constraint or \"\n\u001b[1;32m    216\u001b[0m              \"chain constraints, e.g., 1 >= x >= 0.\")\n",
      "\u001b[0;31mException\u001b[0m: Cannot evaluate the truth value of a constraint or chain constraints, e.g., 1 >= x >= 0."
     ]
    }
   ],
   "source": [
    "attempt = [1 if cp.square(positions[i,0] - positions[j,0]) + cp.square(positions[i,1] - positions[j,1]) >= 30 else 0 for i,j in combinations([0,1,2,3,4,5,6], 2)]"
   ]
  },
  {
   "cell_type": "code",
   "execution_count": 104,
   "metadata": {},
   "outputs": [
    {
     "ename": "Exception",
     "evalue": "Cannot evaluate the truth value of a constraint or chain constraints, e.g., 1 >= x >= 0.",
     "output_type": "error",
     "traceback": [
      "\u001b[0;31m---------------------------------------------------------------------------\u001b[0m",
      "\u001b[0;31mException\u001b[0m                                 Traceback (most recent call last)",
      "\u001b[0;32m<ipython-input-104-de25b47bea25>\u001b[0m in \u001b[0;36m<module>\u001b[0;34m\u001b[0m\n\u001b[0;32m----> 1\u001b[0;31m attempt[0] = 1 if (cp.square(positions[0,0].value - positions[1,0].value) + \\\n\u001b[0m\u001b[1;32m      2\u001b[0m              cp.square(positions[0,1].value - positions[1,1].value) >= 30**2) else 0\n",
      "\u001b[0;32m~/anaconda3/lib/python3.8/site-packages/cvxpy/constraints/constraint.py\u001b[0m in \u001b[0;36m__bool__\u001b[0;34m(self)\u001b[0m\n\u001b[1;32m    225\u001b[0m         \u001b[0mRaising\u001b[0m \u001b[0man\u001b[0m \u001b[0merror\u001b[0m \u001b[0mhere\u001b[0m \u001b[0mprevents\u001b[0m \u001b[0mwriting\u001b[0m \u001b[0mchained\u001b[0m \u001b[0mconstraints\u001b[0m\u001b[0;34m.\u001b[0m\u001b[0;34m\u001b[0m\u001b[0;34m\u001b[0m\u001b[0m\n\u001b[1;32m    226\u001b[0m         \"\"\"\n\u001b[0;32m--> 227\u001b[0;31m         \u001b[0;32mreturn\u001b[0m \u001b[0mself\u001b[0m\u001b[0;34m.\u001b[0m\u001b[0m_chain_constraints\u001b[0m\u001b[0;34m(\u001b[0m\u001b[0;34m)\u001b[0m\u001b[0;34m\u001b[0m\u001b[0;34m\u001b[0m\u001b[0m\n\u001b[0m\u001b[1;32m    228\u001b[0m \u001b[0;34m\u001b[0m\u001b[0m\n\u001b[1;32m    229\u001b[0m     \u001b[0;31m# TODO(rileyjmurray): add a function to compute dual-variable violation.\u001b[0m\u001b[0;34m\u001b[0m\u001b[0;34m\u001b[0m\u001b[0;34m\u001b[0m\u001b[0m\n",
      "\u001b[0;32m~/anaconda3/lib/python3.8/site-packages/cvxpy/constraints/constraint.py\u001b[0m in \u001b[0;36m_chain_constraints\u001b[0;34m(self)\u001b[0m\n\u001b[1;32m    212\u001b[0m         \"\"\"Raises an error due to chained constraints.\n\u001b[1;32m    213\u001b[0m         \"\"\"\n\u001b[0;32m--> 214\u001b[0;31m         raise Exception(\n\u001b[0m\u001b[1;32m    215\u001b[0m             (\"Cannot evaluate the truth value of a constraint or \"\n\u001b[1;32m    216\u001b[0m              \"chain constraints, e.g., 1 >= x >= 0.\")\n",
      "\u001b[0;31mException\u001b[0m: Cannot evaluate the truth value of a constraint or chain constraints, e.g., 1 >= x >= 0."
     ]
    }
   ],
   "source": [
    "attempt[0] = 1 if (cp.square(positions[0,0].value - positions[1,0].value) + \\\n",
    "             cp.square(positions[0,1].value - positions[1,1].value) >= 30**2) else 0"
   ]
  },
  {
   "cell_type": "code",
   "execution_count": null,
   "metadata": {},
   "outputs": [],
   "source": []
  }
 ],
 "metadata": {
  "kernelspec": {
   "display_name": "Python 3",
   "language": "python",
   "name": "python3"
  },
  "language_info": {
   "codemirror_mode": {
    "name": "ipython",
    "version": 3
   },
   "file_extension": ".py",
   "mimetype": "text/x-python",
   "name": "python",
   "nbconvert_exporter": "python",
   "pygments_lexer": "ipython3",
   "version": "3.8.5"
  }
 },
 "nbformat": 4,
 "nbformat_minor": 4
}
