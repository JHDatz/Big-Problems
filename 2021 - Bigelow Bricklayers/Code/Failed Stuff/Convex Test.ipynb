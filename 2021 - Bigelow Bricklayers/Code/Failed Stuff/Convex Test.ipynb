{
 "cells": [
  {
   "cell_type": "code",
   "execution_count": 1,
   "metadata": {},
   "outputs": [],
   "source": [
    "# Convex Optimization Test\n",
    "#\n",
    "# Written By: Joe Datz\n",
    "# Date: 3/22/21\n",
    "#\n",
    "# This jupyter notebook file contains a method for finding the best positions\n",
    "# of fielders using convex optimization. We have formulated this optimization\n",
    "# to be a class of QCQP problems and the problem statement can be found in an\n",
    "# accompanying PDF of a LaTeX file.\n",
    "#\n",
    "# Important future considerations:\n",
    "#\n",
    "# 1. The problem is QCQP but we are using QP software, which greatly limits our\n",
    "# modeling abilities. This will need to be changed to more properly define\n",
    "# constraints.\n",
    "#\n",
    "# 2. I still maintain that something needs to be added to the objective function\n",
    "# or the constraints to account for run value. As it stands now we treat high\n",
    "# run-value and low run-value batted balls with equal importance.\n",
    "#\n",
    "# 3. Other methods of problem solving, such as evolutionary programming, are also\n",
    "# likely viable with enough legwork.\n",
    "\n",
    "import cvxpy as cp\n",
    "import numpy as np\n",
    "import mysql.connector\n",
    "from itertools import combinations\n",
    "\n",
    "# Fit a curve constraint\n",
    "\n",
    "def curve_fit(coordinates1, coordinates2, coordinates3):\n",
    "    y = np.array([coordinates1[1], coordinates2[1], coordinates3[1]])\n",
    "    x = np.array([[coordinates1[0]**2, coordinates1[0], 1], \n",
    "                  [coordinates2[0]**2, coordinates2[0], 1],\n",
    "                  [coordinates3[0]**2, coordinates3[0], 1]])\n",
    "    constants = np.linalg.inv(x.T.dot(x)).dot(x.T).dot(y)\n",
    "    return constants[0], constants[1], constants[2]"
   ]
  },
  {
   "cell_type": "code",
   "execution_count": 2,
   "metadata": {},
   "outputs": [],
   "source": [
    "[a1, b1, c1] = curve_fit((84.85, 84.85), (0, 157.28), (-84.85, 84.85)) # shallow outfield\n",
    "[a2, b2, c2] = curve_fit((-229.809, 229.809), (0, 400), (229.809, 229.809)) # outfield max"
   ]
  },
  {
   "cell_type": "code",
   "execution_count": 3,
   "metadata": {},
   "outputs": [],
   "source": [
    "conn = mysql.connector.connect(user = 'redacted', password = 'redacted',\n",
    "                               host = 'redacted',\n",
    "                               port = 3306,\n",
    "                               database = 'figmentLeague')\n",
    "cur = conn.cursor()\n",
    "cur.execute(\"select ballpos_x, ballpos_y from rawFiltered where batterid = 605137\") # Josh Bell\n",
    "data = np.array(cur.fetchall())\n",
    "conn.close()"
   ]
  },
  {
   "cell_type": "code",
   "execution_count": 4,
   "metadata": {},
   "outputs": [
    {
     "name": "stdout",
     "output_type": "stream",
     "text": [
      "optimal value: 41197.88200577231\n",
      "Optimal 1B Position [40.25726077 82.53487981]\n",
      "Optimal 2B Position [ -5.40853287 138.62240476]\n",
      "Optimal 3B Position [ -5.40853287 138.62240476]\n",
      "Optimal Shortstop Position [ -5.40853287 138.62240476]\n",
      "Optimal Left Fielder Position [ -5.40853104 138.6223936 ]\n",
      "Optimal Center Fielder Position [ -5.40853104 138.6223936 ]\n",
      "Optimal Right Fielder Position [ -5.40853104 138.6223936 ]\n"
     ]
    }
   ],
   "source": [
    "# Define the X-Y coordinates of players to optimize as variables.\n",
    "\n",
    "positions = cp.Variable((7, 2))\n",
    "\n",
    "# Define the objective function as minimizing the distance between a particular batter's\n",
    "# batted ball X-Y coordinates and \n",
    "\n",
    "objective = [cp.norm(cp.vec(data[:,0] - positions[i,0])) + cp.norm(cp.vec(data[:,1] - positions[i,1])) \n",
    "             for i in range(positions.shape[0])]\n",
    "\n",
    "constraints = [positions[:,1] >= 63.64, # Everyone behind pitcher's mound\n",
    "               positions[:,0] <= positions[:,1], # No one past right foul line\n",
    "               -positions[:,0]<= positions[:,1], # No one past left foul line\n",
    "               a1*cp.square(positions[0:4,0]) + b1*positions[0:4,0] + c1*np.ones((4,1))[0:5,0] >= positions[0:4,1],\n",
    "               a2*cp.square(positions[:,0]) + b2*positions[:,0] + c2*np.ones((7,1))[:,0] >= positions[:,1],\n",
    "               cp.square(positions[0,0] - 63.64) + cp.square(positions[0,1] - 63.74) <= 30**2, # 1B 30ft from 1st\n",
    "              ]\n",
    "\n",
    "prob = cp.Problem(cp.Minimize(cp.sum(objective)), constraints)\n",
    "\n",
    "print('optimal value:', prob.solve())\n",
    "print('Optimal 1B Position', positions[0,:].value)\n",
    "print('Optimal 2B Position', positions[1,:].value)\n",
    "print('Optimal 3B Position', positions[2,:].value)\n",
    "print('Optimal Shortstop Position', positions[3,:].value)\n",
    "print('Optimal Left Fielder Position', positions[4,:].value)\n",
    "print('Optimal Center Fielder Position', positions[5,:].value)\n",
    "print('Optimal Right Fielder Position', positions[6,:].value)"
   ]
  },
  {
   "cell_type": "code",
   "execution_count": null,
   "metadata": {},
   "outputs": [],
   "source": [
    "# Constraints to be added by appending QCQP capabilities:\n",
    "\n",
    "cp.norm(cp.vec(positions[0,:] - positions[1,:])) >= 30**2 # Keeping players squared distances away from each other\n",
    "\n",
    "a1*cp.square(positions[4:7,0]) + b1*positions[4:7,0] + c1*np.ones((3,1))[0:4,0] <= positions[4:7,1] # Keep OF in OF\n",
    "\n",
    "# Objective function penalties to be added by appending QCQP capabilities:\n",
    "\n",
    "objective = objective + [cp.log(cp.abs(positions[i,0] - positions[j,0])) \n",
    "                         for i,j in combinations([0,1,2,3,4,5,6], 2)]\n",
    "\n"
   ]
  }
 ],
 "metadata": {
  "kernelspec": {
   "display_name": "Python 3",
   "language": "python",
   "name": "python3"
  },
  "language_info": {
   "codemirror_mode": {
    "name": "ipython",
    "version": 3
   },
   "file_extension": ".py",
   "mimetype": "text/x-python",
   "name": "python",
   "nbconvert_exporter": "python",
   "pygments_lexer": "ipython3",
   "version": "3.8.5"
  }
 },
 "nbformat": 4,
 "nbformat_minor": 4
}
