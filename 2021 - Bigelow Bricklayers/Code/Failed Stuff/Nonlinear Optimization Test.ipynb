{
 "cells": [
  {
   "cell_type": "code",
   "execution_count": 1,
   "metadata": {},
   "outputs": [],
   "source": [
    "from scipy.optimize import minimize, NonlinearConstraint\n",
    "from itertools import combinations\n",
    "import numpy as np\n",
    "import pandas as pd\n",
    "import mysql.connector\n",
    "from nonlinear_optimization_functions import *"
   ]
  },
  {
   "cell_type": "code",
   "execution_count": 2,
   "metadata": {},
   "outputs": [],
   "source": [
    "[a1, b1, c1] = curve_fit((84.85, 84.85), (0, 157.28), (-84.85, 84.85)) # shallow outfield\n",
    "[a2, b2, c2] = curve_fit((-229.809, 229.809), (0, 400), (229.809, 229.809)) # outfield max\n",
    "\n",
    "conn = mysql.connector.connect(user = 'r-user', password = 'h2p@4031',\n",
    "                               host = 'saberbase.cn2snhhvsjfa.us-east-2.rds.amazonaws.com',\n",
    "                               port = 3306,\n",
    "                               database = 'figmentLeague')\n",
    "\n",
    "cur = conn.cursor()\n",
    "cur.execute(\"select ballpos_x, ballpos_y from rawFiltered where batterid = 518934\") # D.J Lamehieu\n",
    "data = pd.DataFrame(np.array(cur.fetchall()))\n",
    "data['zones'] = data.apply(assign_buckets, args = (7,4), axis=1)\n",
    "distribution = batted_ball_distribution(data)\n",
    "conn.close()"
   ]
  },
  {
   "cell_type": "code",
   "execution_count": 6,
   "metadata": {},
   "outputs": [],
   "source": [
    "# Placement of starting points along zones\n",
    "\n",
    "x0, new_positions, zone_markers = assign_positions(distribution)\n",
    "\n",
    "variable_locations = {'firstBaseStart': (0, 1), 'secondBaseStart': (2, 3), 'thirdBaseStart': (4, 5),\n",
    "                      'shortstopStart': (6, 7), 'leftFieldStart': (8, 9),\n",
    "                     'centerFieldStart': (10, 11), 'rightFieldStart': (12, 13)}\n",
    "\n",
    "def new_objective(x):\n",
    "    \n",
    "    objective = 0\n",
    "    \n",
    "    for k in range(data.shape[0]):\n",
    "    \n",
    "        try:\n",
    "    \n",
    "            i, j = variable_locations[zone_markers[data['zones'][k]]]\n",
    "            objective = (data[0][k] - x[i])**2 + (data[1][k] - x[j])**2\n",
    "        \n",
    "        except KeyError:\n",
    "            \n",
    "            pass\n",
    "    \n",
    "#     for i,j in list(combinations([0, 2, 4, 6, 8, 10, 12], 2)):\n",
    "        \n",
    "#         if j in [8,10,12]:\n",
    "        \n",
    "#             objective = objective - 1e5*np.log(((x[i]-x[j])**2 + (x[i+1] - x[j+1])**2)/(60**2))\n",
    "        \n",
    "#         else:\n",
    "            \n",
    "#             objective = objective - 1e5*np.log(((x[i]-x[j])**2 + (x[i+1] - x[j+1])**2)/(20**2))\n",
    "            \n",
    "#     for i,j in list(combinations([0, 2, 4, 6, 8, 10, 12], 2)):\n",
    "        \n",
    "#         objective = objective - \\\n",
    "#         1e3*np.log(np.arccos(((x[i]*x[j] + x[i+1]*x[j+1])/((x[i]**2 + x[i+1]**2)*(x[j]**2 + \\\n",
    "#                                                                               x[j+1]**2))))*(180/np.pi)/4)\n",
    "        \n",
    "    return objective\n",
    "\n",
    "\n",
    "bounds = [(-np.inf, np.inf), (0, np.inf), (-np.inf, np.inf), (0, np.inf), (-np.inf, np.inf), (0, np.inf), \n",
    "          (-np.inf, np.inf), (0, np.inf), (-np.inf, np.inf), (0, np.inf), (-np.inf, np.inf), (0, np.inf), \n",
    "          (-np.inf, np.inf), (0, np.inf)]"
   ]
  },
  {
   "cell_type": "code",
   "execution_count": 7,
   "metadata": {},
   "outputs": [],
   "source": [
    "test = minimize(new_objective, x0, method = 'trust-constr', bounds = bounds) #constraints = circle_constraints)"
   ]
  },
  {
   "cell_type": "code",
   "execution_count": 14,
   "metadata": {},
   "outputs": [
    {
     "data": {
      "text/plain": [
       "array([ 6.36400000e+01,  6.36494052e+01, -2.77256895e+01,  1.62657752e+02,\n",
       "        8.39999934e-02,  4.42418230e+00, -6.76483680e+01,  1.50498994e+02,\n",
       "       -3.20000000e+02,  8.04572606e-01,  1.79045945e+02,  2.65224198e+02,\n",
       "        7.51651376e+01,  3.11049064e+02])"
      ]
     },
     "execution_count": 14,
     "metadata": {},
     "output_type": "execute_result"
    }
   ],
   "source": [
    "test.x"
   ]
  }
 ],
 "metadata": {
  "kernelspec": {
   "display_name": "Python 3",
   "language": "python",
   "name": "python3"
  },
  "language_info": {
   "codemirror_mode": {
    "name": "ipython",
    "version": 3
   },
   "file_extension": ".py",
   "mimetype": "text/x-python",
   "name": "python",
   "nbconvert_exporter": "python",
   "pygments_lexer": "ipython3",
   "version": "3.8.5"
  }
 },
 "nbformat": 4,
 "nbformat_minor": 4
}
